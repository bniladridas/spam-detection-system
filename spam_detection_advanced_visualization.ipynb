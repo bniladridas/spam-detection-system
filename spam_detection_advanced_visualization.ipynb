{
 "cells": [
  {
   "cell_type": "markdown",
   "metadata": {},
   "source": [
    "# 🔍 Spam Detection: Advanced Feature Visualization\n",
    "\n",
    "## Exploring Model Parameters and Token Analysis"
   ]
  },
  {
   "cell_type": "code",
   "execution_count": null,
   "metadata": {},
   "source": [
    "import numpy as np\n",
    "import pandas as pd\n",
    "import matplotlib.pyplot as plt\n",
    "import seaborn as sns\n",
    "import re\n",
    "from sklearn.feature_extraction.text import CountVectorizer\n",
    "from sklearn.naive_bayes import MultinomialNB\n",
    "\n",
    "# Seed for reproducibility\n",
    "np.random.seed(42)"
   ],
   "outputs": []
  },
  {
   "cell_type": "markdown",
   "metadata": {},
   "source": [
    "## 📊 Dataset Preparation"
   ]
  },
  {
   "cell_type": "code",
   "execution_count": null,
   "metadata": {},
   "source": [
    "# Sample Email Dataset\n",
    "emails = [\n",
    "    \"Urgent! You've won a free iPhone. Click here now!\",\n",
    "    \"Meeting scheduled for project review next week\",\n",
    "    \"Get rich quick with this amazing investment opportunity!\",\n",
    "    \"Quarterly team performance report attached\",\n",
    "    \"Limited time offer: Massive discount on luxury watches!\",\n",
    "    \"Client proposal for Q3 marketing strategy\",\n",
    "    \"Congratulations! You're selected for a free cruise!\",\n",
    "    \"Weekly team sync-up agenda and discussion points\"\n",
    "]\n",
    "\n",
    "labels = [\n",
    "    'spam', 'not_spam', 'spam', 'not_spam', \n",
    "    'spam', 'not_spam', 'spam', 'not_spam'\n",
    "]\n",
    "\n",
    "# Preprocess emails\n",
    "def preprocess_text(text):\n",
    "    text = text.lower()\n",
    "    text = re.sub(r'[^a-zA-Z\\s]', '', text)\n",
    "    return text\n",
    "\n",
    "processed_emails = [preprocess_text(email) for email in emails]"
   ],
   "outputs": []
  },
  {
   "cell_type": "markdown",
   "metadata": {},
   "source": [
    "## 🧠 Token and Feature Extraction"
   ]
  },
  {
   "cell_type": "code",
   "execution_count": null,
   "metadata": {},
   "source": [
    "# Vectorization\n",
    "vectorizer = CountVectorizer()\n",
    "X_vectorized = vectorizer.fit_transform(processed_emails)\n",
    "\n",
    "# Get feature names\n",
    "feature_names = vectorizer.get_feature_names_out()\n",
    "\n",
    "# Create feature matrix\n",
    "feature_matrix = X_vectorized.toarray()\n",
    "\n",
    "# Create DataFrame for visualization\n",
    "feature_df = pd.DataFrame(feature_matrix, columns=feature_names, index=[f'Email {i+1}' for i in range(len(emails))])\n",
    "print(\"Feature Matrix:\")\n",
    "print(feature_df)"
   ],
   "outputs": []
  },
  {
   "cell_type": "markdown",
   "metadata": {},
   "source": [
    "## 🌈 Token Frequency Visualization"
   ]
  },
  {
   "cell_type": "code",
   "execution_count": null,
   "metadata": {},
   "source": [
    "# Calculate token frequencies\n",
    "token_frequencies = feature_df.sum()\n",
    "\n",
    "# Visualization\n",
    "plt.figure(figsize=(15, 6))\n",
    "token_frequencies.sort_values(ascending=False).plot(kind='bar')\n",
    "plt.title('Token Frequencies Across Emails')\n",
    "plt.xlabel('Tokens')\n",
    "plt.ylabel('Frequency')\n",
    "plt.xticks(rotation=45, ha='right')\n",
    "plt.tight_layout()\n",
    "plt.show()"
   ],
   "outputs": []
  },
  {
   "cell_type": "markdown",
   "metadata": {},
   "source": [
    "## 🎯 Spam vs Not Spam Token Analysis"
   ]
  },
  {
   "cell_type": "code",
   "execution_count": null,
   "metadata": {},
   "source": [
    "# Separate spam and not spam emails\n",
    "spam_emails = [email for email, label in zip(processed_emails, labels) if label == 'spam']\n",
    "not_spam_emails = [email for email, label in zip(processed_emails, labels) if label == 'not_spam']\n",
    "\n",
    "# Vectorize spam and not spam separately\n",
    "spam_vectorizer = CountVectorizer()\n",
    "not_spam_vectorizer = CountVectorizer()\n",
    "\n",
    "spam_matrix = spam_vectorizer.fit_transform(spam_emails)\n",
    "not_spam_matrix = not_spam_vectorizer.fit_transform(not_spam_emails)\n",
    "\n",
    "# Get feature names\n",
    "spam_features = spam_vectorizer.get_feature_names_out()\n",
    "not_spam_features = not_spam_vectorizer.get_feature_names_out()\n",
    "\n",
    "# Calculate token frequencies\n",
    "spam_token_freq = pd.Series(spam_matrix.toarray().sum(axis=0), index=spam_features)\n",
    "not_spam_token_freq = pd.Series(not_spam_matrix.toarray().sum(axis=0), index=not_spam_features)\n",
    "\n",
    "# Visualization\n",
    "plt.figure(figsize=(15, 6))\n",
    "plt.subplot(1, 2, 1)\n",
    "spam_token_freq.sort_values(ascending=False).head(10).plot(kind='bar', color='red')\n",
    "plt.title('Top 10 Spam Tokens')\n",
    "plt.xticks(rotation=45, ha='right')\n",
    "\n",
    "plt.subplot(1, 2, 2)\n",
    "not_spam_token_freq.sort_values(ascending=False).head(10).plot(kind='bar', color='green')\n",
    "plt.title('Top 10 Not Spam Tokens')\n",
    "plt.xticks(rotation=45, ha='right')\n",
    "\n",
    "plt.tight_layout()\n",
    "plt.show()"
   ],
   "outputs": []
  },
  {
   "cell_type": "markdown",
   "metadata": {},
   "source": [
    "## 🔬 Probabilistic Feature Heatmap"
   ]
  },
  {
   "cell_type": "code",
   "execution_count": null,
   "metadata": {},
   "source": [
    "# Train Naive Bayes Classifier\n",
    "classifier = MultinomialNB()\n",
    "classifier.fit(X_vectorized, labels)\n",
    "\n",
    "# Get log probabilities\n",
    "feature_log_prob = classifier.feature_log_prob_\n",
    "\n",
    "# Create heatmap of feature log probabilities\n",
    "plt.figure(figsize=(15, 8))\n",
    "sns.heatmap(\n",
    "    feature_log_prob, \n",
    "    annot=True, \n",
    "    cmap='coolwarm', \n",
    "    xticklabels=feature_names,\n",
    "    yticklabels=['Spam', 'Not Spam']\n",
    ")\n",
    "plt.title('Feature Log Probabilities: Spam vs Not Spam')\n",
    "plt.xlabel('Tokens')\n",
    "plt.ylabel('Class')\n",
    "plt.xticks(rotation=45, ha='right')\n",
    "plt.tight_layout()\n",
    "plt.show()"
   ],
   "outputs": []
  },
  {
   "cell_type": "markdown",
   "metadata": {},
   "source": [
    "## 🌟 Key Insights\n",
    "\n",
    "### Token Analysis Findings\n",
    "- Identified distinctive tokens for spam and legitimate emails\n",
    "- Visualized token frequencies\n",
    "- Explored probabilistic feature distributions"
   ]
  }
 ],
 "metadata": {
  "kernelspec": {
   "display_name": "Python 3",
   "language": "python",
   "name": "python3"
  },
  "language_info": {
   "name": "python",
   "version": "3.8.5"
  }
 },
 "nbformat": 4,
 "nbformat_minor": 4
}
