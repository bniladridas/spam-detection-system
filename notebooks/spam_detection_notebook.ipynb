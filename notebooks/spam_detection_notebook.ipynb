{
 "cells": [
  {
   "cell_type": "markdown",
   "metadata": {},
   "source": [
    "# 🚀 Spam Detection System: Interactive Demonstration\n",
    "\n",
    "## Overview\n",
    "This Jupyter Notebook provides an interactive walkthrough of our Spam Detection Model, showcasing its capabilities, training process, and real-time inference."
   ]
  },
  {
   "cell_type": "code",
   "execution_count": 1,
   "metadata": {},
   "outputs": [],
   "source": [
    "# Import required libraries\n",
    "import numpy as np\n",
    "import pandas as pd\n",
    "import re\n",
    "import logging\n",
    "import matplotlib.pyplot as plt\n",
    "from sklearn.model_selection import train_test_split\n",
    "from sklearn.feature_extraction.text import CountVectorizer\n",
    "from sklearn.naive_bayes import MultinomialNB\n",
    "from sklearn.metrics import classification_report, confusion_matrix, accuracy_score\n",
    "\n",
    "# Configure logging\n",
    "logging.basicConfig(level=logging.INFO, format='%(asctime)s - %(levelname)s: %(message)s')"
   ]
  },
  {
   "cell_type": "markdown",
   "metadata": {},
   "source": [
    "## 📊 Dataset Preparation"
   ]
  },
  {
   "cell_type": "code",
   "execution_count": 2,
   "metadata": {},
   "outputs": [
    {
     "name": "stdout",
     "output_type": "stream",
     "text": [
      "                                               email     label\n",
      "0  Urgent! You've won a free iPhone. Click here now!      spam\n",
      "1     Meeting scheduled for project review next week  not_spam\n",
      "2  Get rich quick with this amazing investment op...      spam\n",
      "3         Quarterly team performance report attached  not_spam\n",
      "4  Limited time offer: Massive discount on luxury...      spam\n",
      "5          Client proposal for Q3 marketing strategy  not_spam\n",
      "6  Congratulations! You're selected for a free cr...      spam\n",
      "7   Weekly team sync-up agenda and discussion points  not_spam\n"
     ]
    }
   ],
   "source": [
    "# Sample Email Dataset\n",
    "emails = [\n",
    "    \"Urgent! You've won a free iPhone. Click here now!\",\n",
    "    \"Meeting scheduled for project review next week\",\n",
    "    \"Get rich quick with this amazing investment opportunity!\",\n",
    "    \"Quarterly team performance report attached\",\n",
    "    \"Limited time offer: Massive discount on luxury watches!\",\n",
    "    \"Client proposal for Q3 marketing strategy\",\n",
    "    \"Congratulations! You're selected for a free cruise!\",\n",
    "    \"Weekly team sync-up agenda and discussion points\"\n",
    "]\n",
    "\n",
    "labels = [\n",
    "    'spam', 'not_spam', 'spam', 'not_spam', \n",
    "    'spam', 'not_spam', 'spam', 'not_spam'\n",
    "]\n",
    "\n",
    "# Convert to DataFrame for better visualization\n",
    "df = pd.DataFrame({'email': emails, 'label': labels})\n",
    "print(df)"
   ]
  },
  {
   "cell_type": "markdown",
   "metadata": {},
   "source": [
    "## 🧠 SpamDetector Class Implementation"
   ]
  },
  {
   "cell_type": "code",
   "execution_count": 3,
   "metadata": {},
   "outputs": [],
   "source": [
    "class SpamDetector:\n",
    "    def __init__(self):\n",
    "        self.vectorizer = CountVectorizer()\n",
    "        self.classifier = MultinomialNB()\n",
    "        \n",
    "    def preprocess_text(self, text):\n",
    "        # Text preprocessing\n",
    "        text = text.lower()\n",
    "        text = re.sub(r'[^a-zA-Z\\s]', '', text)\n",
    "        return text\n",
    "    \n",
    "    def train(self, X_train, y_train, verbose=True):\n",
    "        # Preprocess emails\n",
    "        X_processed = [self.preprocess_text(email) for email in X_train]\n",
    "        \n",
    "        # Vectorize text\n",
    "        X_vectorized = self.vectorizer.fit_transform(X_processed)\n",
    "        \n",
    "        # Train classifier\n",
    "        self.classifier.fit(X_vectorized, y_train)\n",
    "        \n",
    "        # Validation\n",
    "        if verbose:\n",
    "            X_train_vec, X_val_vec, y_train_val, y_val = train_test_split(\n",
    "                X_vectorized, y_train, test_size=0.2, random_state=42\n",
    "            )\n",
    "            y_pred = self.classifier.predict(X_val_vec)\n",
    "            \n",
    "            # Robust metrics calculation\n",
    "            print(\"Classification Report:\")\n",
    "            print(classification_report(y_val, y_pred, zero_division=1))\n",
    "            \n",
    "            print(\"Confusion Matrix:\")\n",
    "            print(confusion_matrix(y_val, y_pred))\n",
    "            \n",
    "            print(f\"Accuracy: {accuracy_score(y_val, y_pred):.2%}\")\n",
    "        \n",
    "    def predict(self, email_text):\n",
    "        # Preprocess and vectorize\n",
    "        processed_email = self.preprocess_text(email_text)\n",
    "        vectorized_email = self.vectorizer.transform([processed_email])\n",
    "        \n",
    "        # Predict\n",
    "        prediction = self.classifier.predict(vectorized_email)[0]\n",
    "        prob = self.classifier.predict_proba(vectorized_email)[0]\n",
    "        \n",
    "        return {\n",
    "            'label': prediction,\n",
    "            'spam_probability': prob[list(self.classifier.classes_).index('spam')],\n",
    "            'not_spam_probability': prob[list(self.classifier.classes_).index('not_spam')]\n",
    "        }"
   ]
  },
  {
   "cell_type": "markdown",
   "metadata": {},
   "source": [
    "## 🚀 Model Training"
   ]
  },
  {
   "cell_type": "code",
   "execution_count": 4,
   "metadata": {},
   "outputs": [
    {
     "name": "stdout",
     "output_type": "stream",
     "text": [
      "Classification Report:\n",
      "              precision    recall  f1-score   support\n",
      "\n",
      "    not_spam       1.00      1.00      1.00         2\n",
      "\n",
      "    accuracy                           1.00         2\n",
      "   macro avg       1.00      1.00      1.00         2\n",
      "weighted avg       1.00      1.00      1.00         2\n",
      "\n",
      "Confusion Matrix:\n",
      "[[2]]\n",
      "Accuracy: 100.00%\n"
     ]
    }
   ],
   "source": [
    "# Initialize and train model\n",
    "spam_detector = SpamDetector()\n",
    "spam_detector.train(emails, labels)"
   ]
  },
  {
   "cell_type": "markdown",
   "metadata": {},
   "source": [
    "## 🔍 Real-Time Inference Demonstration"
   ]
  },
  {
   "cell_type": "code",
   "execution_count": 5,
   "metadata": {},
   "outputs": [
    {
     "name": "stdout",
     "output_type": "stream",
     "text": [
      "\n",
      "Email: Congratulations! You've won a free vacation!\n",
      "Prediction: spam\n",
      "Spam Probability: 94.62%\n",
      "Not Spam Probability: 5.38%\n",
      "\n",
      "Email: Team meeting agenda for next sprint planning\n",
      "Prediction: not_spam\n",
      "Spam Probability: 1.85%\n",
      "Not Spam Probability: 98.15%\n"
     ]
    }
   ],
   "source": [
    "# Test emails for prediction\n",
    "test_emails = [\n",
    "    \"Congratulations! You've won a free vacation!\",\n",
    "    \"Team meeting agenda for next sprint planning\"\n",
    "]\n",
    "\n",
    "for email in test_emails:\n",
    "    result = spam_detector.predict(email)\n",
    "    print(f\"\\nEmail: {email}\")\n",
    "    print(f\"Prediction: {result['label']}\")\n",
    "    print(f\"Spam Probability: {result['spam_probability']:.2%}\")\n",
    "    print(f\"Not Spam Probability: {result['not_spam_probability']:.2%}\")"
   ]
  },
  {
   "cell_type": "markdown",
   "metadata": {},
   "source": [
    "## 📈 Performance Visualization"
   ]
  },
  {
   "cell_type": "code",
   "execution_count": 6,
   "metadata": {},
   "outputs": [
    {
     "data": {
      "image/png": "[encoded data removed]",
      "text/plain": [
       "<Figure size 1000x600 with 1 Axes>"
      ]
     },
     "metadata": {},
     "output_type": "display_data"
    }
   ],
   "source": [
    "def visualize_predictions(test_emails, spam_detector):\n",
    "    results = [spam_detector.predict(email) for email in test_emails]\n",
    "    \n",
    "    plt.figure(figsize=(10, 6))\n",
    "    plt.title(\"Spam Probability Distribution\")\n",
    "    plt.xlabel(\"Email\")\n",
    "    plt.ylabel(\"Probability\")\n",
    "    \n",
    "    spam_probs = [result['spam_probability'] for result in results]\n",
    "    not_spam_probs = [result['not_spam_probability'] for result in results]\n",
    "    \n",
    "    x = range(len(test_emails))\n",
    "    plt.bar([i-0.2 for i in x], spam_probs, width=0.4, label='Spam Probability', color='red')\n",
    "    plt.bar([i+0.2 for i in x], not_spam_probs, width=0.4, label='Not Spam Probability', color='green')\n",
    "    \n",
    "    plt.xticks(x, [f\"Email {i+1}\" for i in x], rotation=45)\n",
    "    plt.legend()\n",
    "    plt.tight_layout()\n",
    "    plt.show()\n",
    "\n",
    "visualize_predictions(test_emails, spam_detector)"
   ]
  },
  {
   "cell_type": "markdown",
   "metadata": {},
   "source": [
    "## 🌟 Key Takeaways\n",
    "1. Implemented Multinomial Naive Bayes for spam detection\n",
    "2. Demonstrated robust classification metrics\n",
    "3. Showed real-time email classification\n",
    "4. Provided probabilistic spam predictions"
   ]
  }
 ],
 "metadata": {
  "kernelspec": {
   "display_name": "Python 3 (ipykernel)",
   "language": "python",
   "name": "python3"
  },
  "language_info": {
   "codemirror_mode": {
    "name": "ipython",
    "version": 3
   },
   "file_extension": ".py",
   "mimetype": "text/x-python",
   "name": "python",
   "nbconvert_exporter": "python",
   "pygments_lexer": "ipython3",
   "version": "3.8.12"
  }
 },
 "nbformat": 4,
 "nbformat_minor": 4
}
